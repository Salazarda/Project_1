{
 "cells": [
  {
   "cell_type": "markdown",
   "metadata": {},
   "source": [
    "<br><span style=\"font-size:75px;color:black\">Suicide</span><br>\n",
    "# An Analysis of Self Inflicted Death Between 2005-2015\n",
    "## A Presentation By: Anna, Diego, Hank, and Seth\n",
    "<br>\n",
    "<br>\n",
    "<br>"
   ]
  },
  {
   "cell_type": "code",
   "execution_count": 3,
   "metadata": {},
   "outputs": [],
   "source": [
    "#TODO\n",
    "#  Finish Point 1\n",
    "#  Finish Point 2\n",
    "#  Go through random bullet points and finish detailed math\n",
    "#  Finish Last Question\n",
    "#  Create Figure Section and ID each \n",
    "#  fix horizontal bar chart with div?"
   ]
  },
  {
   "cell_type": "markdown",
   "metadata": {},
   "source": [
    "### Point 1\n",
    "Why did we choose this topic?  \n",
    "What questions did we ask the data?\n"
   ]
  },
  {
   "cell_type": "markdown",
   "metadata": {},
   "source": [
    "### Point 2 \n",
    "Where did we get the data?  \n",
    "\n",
    "How did we prepare our data?  \n",
    "* Code snippet of append and merge\n",
    "* sampling data\n",
    "  \n",
    "What issues did we face with our data?  \n",
    "* limited in cause codes\n",
    "* limited in demographic data\n",
    "* no geographical data available"
   ]
  },
  {
   "cell_type": "markdown",
   "metadata": {},
   "source": [
    "# What is the Current and Future Rate of Suicide in the United States?\n",
    "In the ten year span of our dataset we can see a consistent uptick in the US Suicide rate.  By running a linear regression we can forecast the future trending suicide rate.  Ten years is a relatively small time span to forecast from, but the trend is surprising nonetheless.\n",
    "<img src=\"SuiPercByYear.png\"><div style=\"text-align: right\"> fig.1</div>  \n",
    "\n",
    "Between 2008 and 2009 we can see an almost .2% increase in the suicide rate, the sharpest in our dataset.  This could be a possible correlation to <a href=\"https://money.cnn.com/2013/09/18/news/economy/financial-crisis-suicide/\">the 2008 financial crisis.</a>  \n",
    "<br>\n",
    "<br>\n",
    "<br>"
   ]
  },
  {
   "cell_type": "markdown",
   "metadata": {},
   "source": [
    "# Does Age Play a Factor in Method of Suicide?\n",
    "* Find percentage chance before 50\n",
    "* Find percentage chance after 50  \n",
    "  \n",
    "Using the \"Cause of Death\" code in our dataset we were able to analyse a change in the preferred method overtime.  Firearms were the largest proportion of suicide method in our dataset, so they were contrasted against everything else.  The graph below charts the age at time of death on the x axis and number of deaths on the y axis.  The smaller graph shows the same thing as a percentage.\n",
    "<img src=\"SuiByFireLayered.png\">  \n",
    "While the number of suicides starts to taper off around the mid 50's, firearms starts to become the preferred method at about the same time.  In the smaller accompanying graph we see the percentage of use almost flip across the age range.\n",
    "<br>\n",
    "<br>\n",
    "<br>"
   ]
  },
  {
   "cell_type": "markdown",
   "metadata": {},
   "source": [
    "# How Does Suicide Differ Across Educational Demographic?\n",
    "* Get average percentage increase for high school number of suicides\n",
    "* Look at the same thing for percentage growth\n",
    "* find which category has the largest percentage growth  \n",
    "  \n",
    "\n",
    "Educational Demographic is one of the main contributors to economic hardship which in turn is a contributing factor for some people facing the issue.  Initially we looked at the number of suicides a year by educational group.  The graph below shows number of suicides by year.\n",
    "<img src=\"SuiByYearEd.png\">\n",
    "Initially we see that \"High School level education or GED\" has the highest number of suicides, but this is misleading.  As the population grows the amount of deaths per year will grow also.  As for education level, it is reported that <a href=\"https://www.census.gov/library/stories/2018/07/educational-attainment.html\">90% of the population 25 and older have earned a High School Degree.</a>  While only<a href=\"https://www.politifact.com/truth-o-meter/statements/2015/apr/08/rick-santorum/70-americans-dont-have-college-degree-rick-santoru/\"> 28% over the age of 27 have college degrees.</a>  This means that the pool of \"High School level education or GED\" will be much larger than most, if not all, other education groups.  It is more appropriate to analyse this by percentage.  The graph below shows suicide deaths as a percentage of total deaths by year per education group.\n",
    "<img src=\"SuiPercByYearEd.png\">\n",
    "This graph shows us that the suicide rate across education groups fluctuates a little but remains pretty constant across all groups.  However, two that are interesting are the \"Some College\" and \"Doctorate\" groups.\n",
    "<img src=\"SuiPercByYearEdDocSomeCol.png\">\n",
    "Without much more in terms of supporting data a clear correlation can not be determined.  But it is interesting that when other groups started to experience a higher rate of suicide, \"Doctorate\" saw a decrease in 2008 and a spike two years later in 2010.  The \"Some College\" group is interesting because it has seen a slow and steady increase in the latter years of our dataset.  How do educational groups stack against each other as a whole?  \n",
    "  \n",
    "* Expand on percentages for the below graph\n",
    "<img src=\"SuiByEd.png\">\n",
    "Overall \"Some College\" is the educational group with the highest percentage suicides of total deaths."
   ]
  },
  {
   "cell_type": "markdown",
   "metadata": {},
   "source": [
    "# Do Suicide Trends Differ Between Men and Women?\n",
    "* Find percentage change in young adult males\n",
    "* Look for any interesting changes in female activity\n",
    "\n",
    "<img src=\"SuiGenHisto.png\">\n",
    "<img src=\"SuiGenDistr.png\">"
   ]
  },
  {
   "cell_type": "code",
   "execution_count": null,
   "metadata": {},
   "outputs": [],
   "source": []
  }
 ],
 "metadata": {
  "kernelspec": {
   "display_name": "Python 3",
   "language": "python",
   "name": "python3"
  },
  "language_info": {
   "codemirror_mode": {
    "name": "ipython",
    "version": 3
   },
   "file_extension": ".py",
   "mimetype": "text/x-python",
   "name": "python",
   "nbconvert_exporter": "python",
   "pygments_lexer": "ipython3",
   "version": "3.7.1"
  }
 },
 "nbformat": 4,
 "nbformat_minor": 2
}
