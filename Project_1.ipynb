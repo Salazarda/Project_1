{
 "cells": [
  {
   "cell_type": "code",
   "execution_count": null,
   "metadata": {},
   "outputs": [],
   "source": [
    "#Dependencies\n",
    "%matplotlib notebook\n",
    "import pandas as pd\n",
    "import numpy as np\n",
    "import matplotlib.pyplot as plt\n",
    "import json"
   ]
  },
  {
   "cell_type": "code",
   "execution_count": null,
   "metadata": {},
   "outputs": [],
   "source": [
    "df2005 = pd.read_csv(\"C:/Users/sethn/Desktop/death05_09/2005_data.csv\", low_memory=False)\n",
    "df2006 = pd.read_csv(\"C:/Users/sethn/Desktop/death05_09/2006_data.csv\", low_memory=False)\n",
    "df2007 = pd.read_csv(\"C:/Users/sethn/Desktop/death05_09/2007_data.csv\", low_memory=False)\n",
    "df2008 = pd.read_csv(\"C:/Users/sethn/Desktop/death05_09/2008_data.csv\", low_memory=False)\n",
    "df2009 = pd.read_csv(\"C:/Users/sethn/Desktop/death05_09/2009_data.csv\", low_memory=False)\n",
    "\n",
    "death05_09 = df2005.append([df2006, df2007, df2008, df2009])\n",
    "\n",
    "death05_09 = death05_09[['resident_status',\n",
    "                         'education_2003_revision',\n",
    "                         'month_of_death',\n",
    "                         'sex',\n",
    "                         'detail_age_type',\n",
    "                         'detail_age',\n",
    "                         'age_recode_52',\n",
    "                         'age_recode_27','age_recode_12',\n",
    "                         'infant_age_recode_22',\n",
    "                         'place_of_death_and_decedents_status',\n",
    "                         'marital_status',\n",
    "                         'day_of_week_of_death',\n",
    "                         'current_data_year',\n",
    "                         'injury_at_work',\n",
    "                         'manner_of_death',\n",
    "                         'method_of_disposition',\n",
    "                         'autopsy',\n",
    "                         'activity_code',\n",
    "                         'icd_code_10th_revision',\n",
    "                         '358_cause_recode',\n",
    "                         '113_cause_recode',\n",
    "                         '130_infant_cause_recode',\n",
    "                         '39_cause_recode',\n",
    "                         'race_recode_3',\n",
    "                         'race_recode_5',\n",
    "                         'hispanic_origin',\n",
    "                         'hispanic_originrace_recode']]\n",
    "\n",
    "\n",
    "death05_09sample = death05_09.sample(frac=0.05, replace=True, random_state=1)\n",
    "\n",
    "death05_09sample.to_csv(\"death05_09sample.csv\")"
   ]
  },
  {
   "cell_type": "code",
   "execution_count": null,
   "metadata": {},
   "outputs": [],
   "source": [
    "#To Do : reference sample variances, confirm thata data is true"
   ]
  },
  {
   "cell_type": "code",
   "execution_count": null,
   "metadata": {},
   "outputs": [],
   "source": [
    "df2010 = pd.read_csv(\"C:/Users/sethn/Desktop/death05_09/2010_data.csv\", low_memory=False)\n",
    "df2011 = pd.read_csv(\"C:/Users/sethn/Desktop/death05_09/2011_data.csv\", low_memory=False)\n",
    "df2012 = pd.read_csv(\"C:/Users/sethn/Desktop/death05_09/2012_data.csv\", low_memory=False)\n",
    "df2013 = pd.read_csv(\"C:/Users/sethn/Desktop/death05_09/2013_data.csv\", low_memory=False)\n",
    "df2014 = pd.read_csv(\"C:/Users/sethn/Desktop/death05_09/2014_data.csv\", low_memory=False)\n",
    "df2015 = pd.read_csv(\"C:/Users/sethn/Desktop/death05_09/2015_data.csv\", low_memory=False)\n",
    "\n",
    "death10_15 = df2010.append([df2011, df2012, df2013, df2014])\n",
    "\n",
    "death10_15 = death10_15[['resident_status',\n",
    "                         'education_2003_revision',\n",
    "                         'month_of_death',\n",
    "                         'sex',\n",
    "                         'detail_age_type',\n",
    "                         'detail_age',\n",
    "                         'age_recode_52',\n",
    "                         'age_recode_27','age_recode_12',\n",
    "                         'infant_age_recode_22',\n",
    "                         'place_of_death_and_decedents_status',\n",
    "                         'marital_status',\n",
    "                         'day_of_week_of_death',\n",
    "                         'current_data_year',\n",
    "                         'injury_at_work',\n",
    "                         'manner_of_death',\n",
    "                         'method_of_disposition',\n",
    "                         'autopsy',\n",
    "                         'activity_code',\n",
    "                         'icd_code_10th_revision',\n",
    "                         '358_cause_recode',\n",
    "                         '113_cause_recode',\n",
    "                         '130_infant_cause_recode',\n",
    "                         '39_cause_recode',\n",
    "                         'race_recode_3',\n",
    "                         'race_recode_5',\n",
    "                         'hispanic_origin',\n",
    "                         'hispanic_originrace_recode']]\n",
    "\n",
    "\n",
    "death10_15sample = death10_15.sample(frac=0.05, replace=True, random_state=1)\n",
    "\n",
    "death10_15sample.to_csv(\"death10_15sample.csv\")"
   ]
  },
  {
   "cell_type": "code",
   "execution_count": null,
   "metadata": {},
   "outputs": [],
   "source": [
    "#Merge\n"
   ]
  },
  {
   "cell_type": "code",
   "execution_count": null,
   "metadata": {},
   "outputs": [],
   "source": [
    "#Topics:"
   ]
  },
  {
   "cell_type": "code",
   "execution_count": null,
   "metadata": {},
   "outputs": [],
   "source": [
    "data_file = 'sample5death05_15.csv'\n",
    "data_file_pd = pd.read_csv(data_file)\n",
    "data_df = pd.DataFrame(data_file_pd)\n",
    "data_df.dtypes"
   ]
  },
  {
   "cell_type": "code",
   "execution_count": null,
   "metadata": {},
   "outputs": [],
   "source": [
    "#Option A\n",
    "#2015 json file read\n",
    "jsonfile = \"2015_codes.json\"\n",
    "json_data=open(jsonfile).read()\n",
    "data = json.loads(json_data)\n",
    "\n",
    "df = pd.DataFrame.from_dict(data['113_cause_recode'], orient='index')\n",
    "\n",
    "df = df.rename(columns={0:\"113_cause_recode\"})\n",
    "df"
   ]
  },
  {
   "cell_type": "code",
   "execution_count": null,
   "metadata": {},
   "outputs": [],
   "source": [
    "#check to see columns\n",
    "data_df.columns"
   ]
  },
  {
   "cell_type": "code",
   "execution_count": null,
   "metadata": {},
   "outputs": [],
   "source": [
    "#See data types\n",
    "data_df.head()\n",
    "data_df['113_cause_recode'].dtypes"
   ]
  },
  {
   "cell_type": "code",
   "execution_count": null,
   "metadata": {},
   "outputs": [],
   "source": [
    "#reset index\n",
    "df.reset_index(inplace=True)"
   ]
  },
  {
   "cell_type": "code",
   "execution_count": null,
   "metadata": {},
   "outputs": [],
   "source": [
    "#Check first 5 rows\n",
    "df.head()"
   ]
  },
  {
   "cell_type": "code",
   "execution_count": null,
   "metadata": {},
   "outputs": [],
   "source": [
    "#Rename column to better fit description\n",
    "new_df = df.rename(columns={'113_cause_recode':'description'})\n",
    "new_df.head()"
   ]
  },
  {
   "cell_type": "code",
   "execution_count": null,
   "metadata": {},
   "outputs": [],
   "source": [
    "#rename index to match code\n",
    "new_df.rename(columns={'index':'113_cause_recode'},inplace=True)\n",
    "new_df.head()"
   ]
  },
  {
   "cell_type": "code",
   "execution_count": null,
   "metadata": {},
   "outputs": [],
   "source": [
    "#Change datatype to integer\n",
    "new_df['113_cause_recode'] = new_df['113_cause_recode'].astype('int')\n",
    "new_df.head()"
   ]
  },
  {
   "cell_type": "code",
   "execution_count": null,
   "metadata": {},
   "outputs": [],
   "source": [
    "#New merged data set ( still needs cleaning)\n",
    "\n",
    "death_df = data_df.join(new_df, on='113_cause_recode', lsuffix='_x', rsuffix='_y')\n",
    "death_df.head()"
   ]
  },
  {
   "cell_type": "code",
   "execution_count": null,
   "metadata": {},
   "outputs": [],
   "source": [
    "death_df_slice = death_df[['Unnamed: 0',\n",
    "                           '113_cause_recode_x',\n",
    "                           'age_recode_52','autopsy',\n",
    "                           'current_data_year',\n",
    "                           'day_of_week_of_death',\n",
    "                           'detail_age',\n",
    "                           'education_2003_revision',\n",
    "                           'hispanic_origin',\n",
    "                           'injury_at_work',\n",
    "                           'manner_of_death',\n",
    "                           'marital_status',\n",
    "                           'method_of_disposition',\n",
    "                           'month_of_death',\n",
    "                           'place_of_death_and_decedents_status',\n",
    "                           'race_recode_5',\n",
    "                           'sex',\n",
    "                           'description']]"
   ]
  },
  {
   "cell_type": "code",
   "execution_count": null,
   "metadata": {},
   "outputs": [],
   "source": []
  },
  {
   "cell_type": "code",
   "execution_count": null,
   "metadata": {},
   "outputs": [],
   "source": []
  },
  {
   "cell_type": "code",
   "execution_count": null,
   "metadata": {},
   "outputs": [],
   "source": [
    "# Create dictionaries/dataframes for the columns with codes\n",
    "\n",
    "# Place of Death\n",
    "place_of_death_dct = {'place_of_death_and_decedents_status': [1,2,3,4,5,6,7,9],\n",
    "                     'place': ['Hospital, clinic or Medical Center – Inpatient',\n",
    "                               'Hospital, Clinic or Medical Center - Outpatient or admitted to Emergency Room',\n",
    "                               'Hospital, Clinic or Medical Center - Dead on Arrival',\"Decedent’s home\",\n",
    "                               'Hospice facility', 'Nursing home/long term care', 'Other', 'Place of death unknown']}\n",
    "place_df = pd.DataFrame(place_of_death_dct)\n",
    "\n",
    "# Marital Status\n",
    "marital_status_dct = {'marital_status':['S','M','W','D','U'],\n",
    "                     'marital':['Never married, single','Married','Widowed','Divorced',\n",
    "                                       'Marital Status unknown']}\n",
    "marital_df = pd.DataFrame(marital_status_dct)\n",
    "\n",
    "# Month of Death\n",
    "month_dct = {'month_of_death':[1,2,3,4,5,6,7,8,9,10,11,12],\n",
    "            'month':['January','February','March','April','May','June','July','August','September',\n",
    "                     'October','November','December']}\n",
    "month_df = pd.DataFrame(month_dct)\n",
    "\n",
    "# Method of Disposition\n",
    "disposition_dct = {'method_of_disposition':['B','C','D','U'],\n",
    "                  'disposition':['Burial','Cremation','Other','Unknown']}\n",
    "disp_df = pd.DataFrame(disposition_dct)\n",
    "\n",
    "# Education\n",
    "edu_dct = {'education_2003_revision': [1,2,3,4,5,6,7,8,9],\n",
    "          'education':['8th grade or less','9 - 12th grade, no diploma','high school graduate or GED completed',\n",
    "                       'some college credit, but no degree','Associate degree','Bachelor’s degree',\n",
    "                       \"Master’s degree\",'Doctorate or professional degree','Unknown']}\n",
    "edu_df = pd.DataFrame(edu_dct)\n",
    "\n",
    "# Day of the Week\n",
    "day_of_week_dct = {'day_of_week_of_death': [1,2,3,4,5,6,7,9],\n",
    "                  'day_of_week':['Sunday','Monday','Tuesday','Wednesday','Thursday','Friday','Saturday','Unknown']}\n",
    "day_df = pd.DataFrame(day_of_week_dct)\n",
    "\n",
    "# Age Range\n",
    "age_code_dct = {'age_recode_12': [1,2,3,4,5,6,7,8,9,10,11,12],\n",
    "                'age_range': [\"Under 1 year (includes not stated infant ages)\",\"1 - 4 years\", \"5 - 14 years\",\n",
    "                              \"15 - 24 years\", \"25 - 34 years\",\"35 - 44 years\",\"45 - 54 years\",\"55 - 64 years\",\n",
    "                              \"65 - 74 years\",\"75 - 84 years\",\"85 years and over\",\"Age not stated\"]}\n",
    "age_code_df = pd.DataFrame(age_code_dct)\n",
    "\n",
    "# Manner of Death\n",
    "cause_dct = {\"manner_of_death\": [1,2,3,4,5,6,7,None],\n",
    "             \"cause_of_death\": [\"Accident\", \"Suicide\",\"Homicide\",\"Pending investigation\",\"Could not determine\",\n",
    "                                \"Self-Inflicted\", \"Natural\", \"Not specified\"]}\n",
    "cause_df = pd.DataFrame(cause_dct)"
   ]
  },
  {
   "cell_type": "code",
   "execution_count": null,
   "metadata": {},
   "outputs": [],
   "source": [
    "#Topics: Alzeihmers, Suicide, Diabetes, ...etc\n"
   ]
  },
  {
   "cell_type": "code",
   "execution_count": 11,
   "metadata": {},
   "outputs": [
    {
     "name": "stdout",
     "output_type": "stream",
     "text": [
      "Updating 21a734a..ab493bf\n",
      "Fast-forward\n",
      " Project_Anna.ipynb | 2540 +++++++++++++++++++++++++++++++++++++++++++++++++++-\n",
      " 1 file changed, 2539 insertions(+), 1 deletion(-)\n"
     ]
    },
    {
     "name": "stderr",
     "output_type": "stream",
     "text": [
      "From github.com:Salazarda/Project_1\n",
      "   21a734a..ab493bf  master     -> origin/master\n",
      " * [new branch]      AnnaBranch -> origin/AnnaBranch\n"
     ]
    }
   ],
   "source": [
    "! git pull"
   ]
  },
  {
   "cell_type": "code",
   "execution_count": null,
   "metadata": {},
   "outputs": [],
   "source": []
  },
  {
   "cell_type": "code",
   "execution_count": null,
   "metadata": {},
   "outputs": [],
   "source": []
  },
  {
   "cell_type": "code",
   "execution_count": null,
   "metadata": {},
   "outputs": [],
   "source": []
  },
  {
   "cell_type": "code",
   "execution_count": null,
   "metadata": {},
   "outputs": [],
   "source": []
  },
  {
   "cell_type": "code",
   "execution_count": null,
   "metadata": {},
   "outputs": [],
   "source": []
  },
  {
   "cell_type": "code",
   "execution_count": null,
   "metadata": {},
   "outputs": [],
   "source": []
  },
  {
   "cell_type": "code",
   "execution_count": 2,
   "metadata": {},
   "outputs": [
    {
     "name": "stdout",
     "output_type": "stream",
     "text": [
      "Updating 2526e57..a18ab0f\n",
      "Fast-forward\n",
      " README.md | 1 +\n",
      " 1 file changed, 1 insertion(+)\n",
      " create mode 100644 README.md\n"
     ]
    },
    {
     "name": "stderr",
     "output_type": "stream",
     "text": [
      "From github.com:Salazarda/Project_1\n",
      "   2526e57..a18ab0f  master     -> origin/master\n"
     ]
    }
   ],
   "source": [
    "!git pull "
   ]
  },
  {
   "cell_type": "code",
   "execution_count": 3,
   "metadata": {},
   "outputs": [
    {
     "name": "stderr",
     "output_type": "stream",
     "text": [
      "Everything up-to-date\n"
     ]
    }
   ],
   "source": [
    "!git push"
   ]
  },
  {
   "cell_type": "code",
   "execution_count": 4,
   "metadata": {},
   "outputs": [
    {
     "name": "stdout",
     "output_type": "stream",
     "text": [
      "On branch master\n",
      "Your branch is up to date with 'origin/master'.\n",
      "\n",
      "Changes not staged for commit:\n",
      "\tmodified:   Project_1.ipynb\n",
      "\n",
      "Untracked files:\n",
      "\t.ipynb_checkpoints/\n",
      "\tResources/\n",
      "\n",
      "no changes added to commit\n"
     ]
    }
   ],
   "source": [
    "!git commit"
   ]
  },
  {
   "cell_type": "code",
   "execution_count": 5,
   "metadata": {},
   "outputs": [],
   "source": [
    "!git add Project_1.ipynb"
   ]
  },
  {
   "cell_type": "code",
   "execution_count": 7,
   "metadata": {},
   "outputs": [
    {
     "name": "stdout",
     "output_type": "stream",
     "text": [
      "[master f6c4a5f] Updated Base Code\n",
      " 1 file changed, 262 insertions(+), 1 deletion(-)\n"
     ]
    }
   ],
   "source": [
    "!git commit -m \"Updated Base Code\""
   ]
  },
  {
   "cell_type": "code",
   "execution_count": 8,
   "metadata": {},
   "outputs": [
    {
     "name": "stdout",
     "output_type": "stream",
     "text": [
      "Auto-merging Project_1.ipynb\n",
      "Merge made by the 'recursive' strategy.\n",
      " Project_1.ipynb    |   38 +-\n",
      " Project_Anna.ipynb | 1966 ++++++++++++++++++++++++++++++++++++++++++++++++++++\n",
      " 2 files changed, 1995 insertions(+), 9 deletions(-)\n",
      " create mode 100644 Project_Anna.ipynb\n"
     ]
    },
    {
     "name": "stderr",
     "output_type": "stream",
     "text": [
      "From github.com:Salazarda/Project_1\n",
      "   a18ab0f..94f2c8c  master     -> origin/master\n"
     ]
    }
   ],
   "source": [
    "!git pull"
   ]
  },
  {
   "cell_type": "code",
   "execution_count": 9,
   "metadata": {},
   "outputs": [
    {
     "name": "stderr",
     "output_type": "stream",
     "text": [
      "To github.com:Salazarda/Project_1.git\n",
      "   94f2c8c..21a734a  master -> master\n"
     ]
    }
   ],
   "source": [
    "!git push"
   ]
  },
  {
   "cell_type": "code",
   "execution_count": null,
   "metadata": {},
   "outputs": [],
   "source": []
  }
 ],
 "metadata": {
  "kernelspec": {
   "display_name": "Python 3",
   "language": "python",
   "name": "python3"
  },
  "language_info": {
   "codemirror_mode": {
    "name": "ipython",
    "version": 3
   },
   "file_extension": ".py",
   "mimetype": "text/x-python",
   "name": "python",
   "nbconvert_exporter": "python",
   "pygments_lexer": "ipython3",
   "version": "3.7.1"
  }
 },
 "nbformat": 4,
 "nbformat_minor": 2
}
