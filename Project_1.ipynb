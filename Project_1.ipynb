{
 "cells": [
  {
   "cell_type": "code",
   "execution_count": null,
   "metadata": {},
   "outputs": [],
   "source": [
    "#Dependencies\n",
    "%matplotlib notebook\n",
    "import pandas as pd\n",
    "import numpy as np\n",
    "import matplotlib.pyplot as plt\n",
    "import json"
   ]
  },
  {
   "cell_type": "code",
   "execution_count": null,
   "metadata": {},
   "outputs": [],
   "source": [
    "df2005 = pd.read_csv(\"C:/Users/sethn/Desktop/death05_09/2005_data.csv\", low_memory=False)\n",
    "df2006 = pd.read_csv(\"C:/Users/sethn/Desktop/death05_09/2006_data.csv\", low_memory=False)\n",
    "df2007 = pd.read_csv(\"C:/Users/sethn/Desktop/death05_09/2007_data.csv\", low_memory=False)\n",
    "df2008 = pd.read_csv(\"C:/Users/sethn/Desktop/death05_09/2008_data.csv\", low_memory=False)\n",
    "df2009 = pd.read_csv(\"C:/Users/sethn/Desktop/death05_09/2009_data.csv\", low_memory=False)\n",
    "\n",
    "death05_09 = df2005.append([df2006, df2007, df2008, df2009])\n",
    "\n",
    "death05_09 = death05_09[['resident_status',\n",
    "                         'education_2003_revision',\n",
    "                         'month_of_death',\n",
    "                         'sex',\n",
    "                         'detail_age_type',\n",
    "                         'detail_age',\n",
    "                         'age_recode_52',\n",
    "                         'age_recode_27','age_recode_12',\n",
    "                         'infant_age_recode_22',\n",
    "                         'place_of_death_and_decedents_status',\n",
    "                         'marital_status',\n",
    "                         'day_of_week_of_death',\n",
    "                         'current_data_year',\n",
    "                         'injury_at_work',\n",
    "                         'manner_of_death',\n",
    "                         'method_of_disposition',\n",
    "                         'autopsy',\n",
    "                         'activity_code',\n",
    "                         'icd_code_10th_revision',\n",
    "                         '358_cause_recode',\n",
    "                         '113_cause_recode',\n",
    "                         '130_infant_cause_recode',\n",
    "                         '39_cause_recode',\n",
    "                         'race_recode_3',\n",
    "                         'race_recode_5',\n",
    "                         'hispanic_origin',\n",
    "                         'hispanic_originrace_recode']]\n",
    "\n",
    "\n",
    "death05_09sample = death05_09.sample(frac=0.05, replace=True, random_state=1)\n",
    "\n",
    "death05_09sample.to_csv(\"death05_09sample.csv\")"
   ]
  },
  {
   "cell_type": "code",
   "execution_count": null,
   "metadata": {},
   "outputs": [],
   "source": [
    "#To Do : reference sample variances, confirm thata data is true"
   ]
  },
  {
   "cell_type": "code",
   "execution_count": null,
   "metadata": {},
   "outputs": [],
   "source": []
  },
  {
   "cell_type": "code",
   "execution_count": null,
   "metadata": {},
   "outputs": [],
   "source": [
    "#2015 json file read\n",
    "jsonfile = \"2015_codes.json\"\n",
    "json_data=open(jsonfile).read()\n",
    "data = json.loads(json_data)\n",
    "\n",
    "df = pd.DataFrame.from_dict(data['113_cause_recode'], orient='index')\n",
    "\n",
    "df = df.rename(columns={0:\"113_cause_recode\"})\n",
    "df"
   ]
  },
  {
   "cell_type": "code",
   "execution_count": null,
   "metadata": {},
   "outputs": [],
   "source": []
  }
 ],
 "metadata": {
  "kernelspec": {
   "display_name": "Python 3",
   "language": "python",
   "name": "python3"
  },
  "language_info": {
   "codemirror_mode": {
    "name": "ipython",
    "version": 3
   },
   "file_extension": ".py",
   "mimetype": "text/x-python",
   "name": "python",
   "nbconvert_exporter": "python",
   "pygments_lexer": "ipython3",
   "version": "3.7.1"
  }
 },
 "nbformat": 4,
 "nbformat_minor": 2
}
