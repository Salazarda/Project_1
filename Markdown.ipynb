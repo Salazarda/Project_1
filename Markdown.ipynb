{
 "cells": [
  {
   "cell_type": "markdown",
   "metadata": {},
   "source": [
    "#Team 4\n",
    "## Topic: Mortality\n",
    "## What do we want to know about Mortality?"
   ]
  },
  {
   "cell_type": "markdown",
   "metadata": {},
   "source": [
    "## How we went about tackling the issue"
   ]
  },
  {
   "cell_type": "markdown",
   "metadata": {},
   "source": [
    "## We found a credible location to get data from.\n",
    "## We imported the raw csv data we found\n",
    "## Possible data size issue..."
   ]
  },
  {
   "cell_type": "markdown",
   "metadata": {},
   "source": [
    "## Our solution?\n",
    "# Sampling....."
   ]
  },
  {
   "cell_type": "code",
   "execution_count": null,
   "metadata": {},
   "outputs": [],
   "source": [
    "#imported dependencies\n",
    "import pandas as pd\n",
    "from pprint import pprint as p\n",
    "import json\n",
    "import matplotlib.pyplot as plt\n",
    "import numpy as np\n",
    "from scipy import stats\n",
    "import joypy\n",
    "from matplotlib import cm\n",
    "import warnings\n",
    "warnings.simplefilter(\"ignore\")"
   ]
  },
  {
   "cell_type": "markdown",
   "metadata": {},
   "source": [
    "## We got resources: https://www.kaggle.com/cdc/mortality\n",
    "## http://www.cms.hhs.gov/ICD10/downloads/Dxgem_2009.zip\n",
    "## https://www.cdc.gov/nchs/data/dvs/Record_Layout_2010.pdf"
   ]
  },
  {
   "cell_type": "markdown",
   "metadata": {},
   "source": [
    "# Import the dataset\n"
   ]
  },
  {
   "cell_type": "code",
   "execution_count": null,
   "metadata": {},
   "outputs": [],
   "source": [
    "deathdf = pd.read_csv(\"sample5death05_15.csv\", low_memory=False)"
   ]
  },
  {
   "cell_type": "markdown",
   "metadata": {},
   "source": [
    "# Filter what we want"
   ]
  },
  {
   "cell_type": "code",
   "execution_count": null,
   "metadata": {},
   "outputs": [],
   "source": [
    "#Made Functions, to make life easier\n",
    "def suiYN(x):\n",
    "    if x in (124, 125, 126):\n",
    "        return \"Suicide\"\n",
    "    else:\n",
    "        return \"Not Suicide\"\n",
    "\n",
    "def mthd(x):\n",
    "    if x == 125:\n",
    "        return \"Firearm\"\n",
    "    else:\n",
    "        return \"Other Means\"\n",
    "    \n",
    "def suCnt(x):\n",
    "    if x == \"Suicide\":\n",
    "        return 1\n",
    "\n",
    "def othrCnt(x):\n",
    "    if x == \"Not Suicide\":\n",
    "        return 1\n",
    "    \n",
    "def firearmCnt(x):\n",
    "    if x == \"Firearm\":\n",
    "        return 1\n",
    "\n",
    "def nonFirearmCnt(x):\n",
    "    if x == \"Other Means\":\n",
    "        return 1\n",
    "    \n",
    "# helper columns\n",
    "deathdf[\"SuicideYN\"] = deathdf[\"113_cause_recode\"].apply(suiYN)\n",
    "deathdf[\"SuicideCnt\"] = deathdf[\"SuicideYN\"].apply(suCnt)\n",
    "deathdf[\"OtherCnt\"] = deathdf[\"SuicideYN\"].apply(othrCnt)\n",
    "deathdf[\"Method\"] = deathdf[\"113_cause_recode\"].apply(mthd)\n",
    "deathdf[\"FirearmCnt\"] = deathdf[\"Method\"].apply(firearmCnt)\n",
    "deathdf[\"NonFirearmCnt\"] = deathdf[\"Method\"].apply(nonFirearmCnt)\n",
    "    \n",
    "# import json file\n",
    "# retrieve educational data\n",
    "# retrieve marital status data\n",
    "# merge them to the deathdf\n",
    "jsonfile = \"2015_codes.json\"\n",
    "json_data=open(jsonfile).read()\n",
    "data = json.loads(json_data)\n",
    "\n",
    "eddf = pd.DataFrame.from_dict(data['education_2003_revision'], orient=\"index\")\n",
    "eddf = eddf.reset_index()\n",
    "eddf = eddf.rename(columns={0:\"Education\",\n",
    "                           \"index\": \"EdCode\"})\n",
    "eddf[\"EdCode\"] = eddf[\"EdCode\"].astype(float)\n",
    "eddf[\"EdCode\"].value_counts()\n",
    "\n",
    "mardf = pd.DataFrame.from_dict(data[\"marital_status\"], orient=\"index\")\n",
    "mardf = mardf.reset_index()\n",
    "mardf = mardf.rename(columns={0 : \"Marital Status\",\n",
    "                             \"index\": \"MarCode\"})\n",
    "\n",
    "deathdf = deathdf.merge(eddf, left_on=\"education_2003_revision\", right_on=\"EdCode\")\n",
    "deathdf = deathdf.merge(mardf, left_on=\"marital_status\", right_on=\"MarCode\")\n",
    "\n",
    "# dummies for education and gender\n",
    "eddummies = pd.get_dummies(deathdf[\"Education\"])\n",
    "gendummies = pd.get_dummies(deathdf[\"sex\"])\n",
    "mardummies = pd.get_dummies(deathdf[\"marital_status\"])\n",
    "\n",
    "deathdf = deathdf.join(eddummies)\n",
    "deathdf = deathdf.join(gendummies)\n",
    "deathdf = deathdf.rename(columns={\"M\": \"Male\",\n",
    "                                 \"F\": \"Female\"})\n",
    "\n",
    "deathdf = deathdf.join(mardummies)\n",
    "\n",
    "# some weird ages that were like 999. \n",
    "# dropped anything under 150\n",
    "# google says 122 is the oldest recorded so this seems safe\n",
    "deathdf = deathdf[deathdf[\"detail_age\"] < 150]\n",
    "\n",
    "# death Dataframe split into Suicide Only Table and Non Suicide Table\n",
    "SuiOnly = deathdf[deathdf[\"SuicideYN\"] == \"Suicide\"]\n",
    "OtherOnly = deathdf[deathdf[\"SuicideYN\"] != \"Suicide\"]"
   ]
  },
  {
   "cell_type": "markdown",
   "metadata": {},
   "source": [
    "# We wanted to look into suicide, we filtered the data, renamed any misleading columns, and took a glance at how it looks"
   ]
  },
  {
   "cell_type": "code",
   "execution_count": null,
   "metadata": {},
   "outputs": [],
   "source": [
    "# Identify trend in suicide as a percentage of all deaths\n",
    "YearGrp = deathdf.groupby([\"current_data_year\"])\n",
    "\n",
    "SuicideCount = YearGrp[\"SuicideCnt\"].sum()\n",
    "OtherCount = YearGrp[\"OtherCnt\"].sum()\n",
    "AllDeaths = SuicideCount + OtherCount\n",
    "SuiPercent = (SuicideCount / AllDeaths)*100\n",
    "\n",
    "SuicideByYear = pd.DataFrame({\"Suicide\": SuicideCount,\n",
    "                             \"Other\": OtherCount,\n",
    "                              \"Total Deaths\": AllDeaths,\n",
    "                             \"Suicide Percent\": SuiPercent})\n",
    "SuicideByYear = SuicideByYear.reset_index()\n",
    "\n",
    "\n",
    "year = SuicideByYear[\"current_data_year\"]\n",
    "suiper = SuicideByYear[\"Suicide Percent\"]\n",
    "sp_slope, sp_int, _, _, _ =stats.linregress(year, suiper)\n",
    "sp_fit = sp_slope * year + sp_int\n",
    "projyear = 2030\n",
    "projected = round((sp_slope * 2025 + sp_int), 2)\n",
    "\n",
    "textstr = \"Projected to be \" + str(projected) + \"% by \" + str(projyear) + \".\"\n",
    "\n",
    "fig, ax1 = plt.subplots(figsize=(20, 10))\n",
    "fig.suptitle(\"Suicide As a Percentage of All Deaths By Year\", fontsize=20, fontweight=\"bold\")\n",
    "ax1.set_xlim(min(year), max(year))\n",
    "ax1.plot(year, suiper)\n",
    "ax1.plot(year, sp_fit, \"b--\")\n",
    "ax1.text(0.05, 0.95, textstr, transform=ax1.transAxes, fontsize=14,\n",
    "        verticalalignment='top')\n",
    "\n",
    "yearAge = SuiOnly[[\"current_data_year\", \"detail_age\"]]\n",
    "yearAge[\"current_data_year\"] = yearAge[\"current_data_year\"].astype(str)\n",
    "fig, ax4 = joypy.joyplot(yearAge, by=\"current_data_year\", figsize=(20,10),\n",
    "                        ylabelsize=20, xlabelsize=20, ylim='own')\n",
    "fig.suptitle(\"Suicide By Year and Age\", fontsize=25, fontweight=\"bold\")"
   ]
  },
  {
   "cell_type": "markdown",
   "metadata": {},
   "source": [
    "# We made graphs\n",
    "## To get a better idea at how the Data looks.\n",
    "### Made some graphs and variable to compare suicde as a percentage.\n",
    "#### To see how it compares to the rest of the Data."
   ]
  },
  {
   "cell_type": "code",
   "execution_count": null,
   "metadata": {},
   "outputs": [],
   "source": []
  },
  {
   "cell_type": "markdown",
   "metadata": {},
   "source": [
    "## We created some groupby's \n",
    "### Broke down suicide by some demopraphics: \"Gender, Age, Education, etc...\""
   ]
  },
  {
   "cell_type": "code",
   "execution_count": null,
   "metadata": {},
   "outputs": [],
   "source": [
    "\n",
    "#create education groupby to identify suicide percentage by education group\n",
    "EdGroup = deathdf.groupby([\"Education\"])\n",
    "\n",
    "EdSuiCnt = EdGroup[\"SuicideCnt\"].sum()\n",
    "EdOtherCnt = EdGroup[\"OtherCnt\"].sum()\n",
    "EdAll = EdSuiCnt + EdOtherCnt\n",
    "EdSuiPercent = (EdSuiCnt / EdAll)*100\n",
    "\n",
    "\n",
    "\n",
    "SuicideByEducation = pd.DataFrame({\"Suicide\": EdSuiCnt,\n",
    "                                  \"Other\": EdOtherCnt,\n",
    "                                  \"Suicide Percent\":EdSuiPercent})\n",
    "SuicideByEducation.plot(kind=\"barh\", y=\"Suicide Percent\", legend=False, figsize=(20, 10))\n",
    "plt.title(\"Suicide Percentage of Total Deaths By Education Level\", fontsize=20, fontweight=\"bold\")\n",
    "\n",
    "\n",
    "\n",
    "\n",
    "\n",
    "EdYearGroup = SuiOnly.groupby([\"current_data_year\"])\n",
    "\n",
    "eighth = EdYearGroup[\"8th grade or less\"].sum()\n",
    "ninth = EdYearGroup[\"9 - 12th grade, no diploma\"].sum()\n",
    "assoc = EdYearGroup[\"Associate degree\"].sum()\n",
    "bach = EdYearGroup[\"Bachelor’s degree\"].sum()\n",
    "doc = EdYearGroup[\"Doctorate or professional degree\"].sum()\n",
    "mas = EdYearGroup[\"Master’s degree\"].sum()\n",
    "unkwn = EdYearGroup[\"Unknown\"].sum()\n",
    "hs = EdYearGroup[\"high school graduate or GED completed\"].sum()\n",
    "some = EdYearGroup[\"some college credit, but no degree\"].sum()\n",
    "\n",
    "EdYeardf = pd.DataFrame({\"8th or less\": eighth,\n",
    "                        \"9th - 12th\": ninth,\n",
    "                        \"Associate degree\": assoc,\n",
    "                        \"Bachelor’s degree\":bach,\n",
    "                        \"Doctorate\": doc,\n",
    "                        \"Master's\":mas,\n",
    "                        \"Unknown\": unkwn,\n",
    "                        \"High School or GED\": hs,\n",
    "                        \"Some College\":some})\n",
    "EdYeardf.plot.area(figsize=(20, 10))\n",
    "plt.title(\"Total Suicides By Year and Education Level\", fontsize=20, fontweight=\"bold\")\n",
    "\n",
    "\n",
    "\n",
    "EdYearGroupOther = OtherOnly.groupby([\"current_data_year\"])\n",
    "\n",
    "eighthother = EdYearGroupOther[\"8th grade or less\"].sum()\n",
    "ninthother = EdYearGroupOther[\"9 - 12th grade, no diploma\"].sum()\n",
    "assocother = EdYearGroupOther[\"Associate degree\"].sum()\n",
    "bachother = EdYearGroupOther[\"Bachelor’s degree\"].sum()\n",
    "docother = EdYearGroupOther[\"Doctorate or professional degree\"].sum()\n",
    "masother = EdYearGroupOther[\"Master’s degree\"].sum()\n",
    "unkwnother = EdYearGroupOther[\"Unknown\"].sum()\n",
    "hsother = EdYearGroupOther[\"high school graduate or GED completed\"].sum()\n",
    "someother = EdYearGroupOther[\"some college credit, but no degree\"].sum()\n",
    "\n",
    "EdYeardfOther = pd.DataFrame({\"8th or less\": eighthother,\n",
    "                        \"9th - 12th\": ninthother,\n",
    "                        \"Associate degree\": assocother,\n",
    "                        \"Bachelor’s degree\":bachother,\n",
    "                        \"Doctorate\": docother,\n",
    "                        \"Master's\":masother,\n",
    "                        \"Unknown\": unkwnother,\n",
    "                        \"High School or GED\": hsother,\n",
    "                        \"Some College\":someother})\n",
    "\n",
    "EdYeardfAll = EdYeardf.merge(EdYeardfOther, left_index=True, right_index=True, suffixes=(\"\",\"_O\"))\n",
    "\n",
    "\n",
    "EdYeardfAll[\"8thPer\"] = (EdYeardfAll[\"8th or less\"] / (EdYeardfAll[\"8th or less\"] + EdYeardfAll[\"8th or less_O\"]))*100\n",
    "EdYeardfAll[\"9thPer\"] = (EdYeardfAll[\"9th - 12th\"] / (EdYeardfAll[\"9th - 12th\"] + EdYeardfAll[\"9th - 12th_O\"]))*100\n",
    "EdYeardfAll[\"asscPer\"] = (EdYeardfAll[\"Associate degree\"] / (EdYeardfAll[\"Associate degree\"] + EdYeardfAll[\"Associate degree_O\"]))*100\n",
    "EdYeardfAll[\"bachPer\"] = (EdYeardfAll[\"Bachelor’s degree\"] / (EdYeardfAll[\"Bachelor’s degree\"] + EdYeardfAll[\"Bachelor’s degree_O\"]))*100\n",
    "EdYeardfAll[\"docPer\"] = (EdYeardfAll[\"Doctorate\"] / (EdYeardfAll[\"Doctorate\"] + EdYeardfAll[\"Doctorate_O\"]))*100\n",
    "EdYeardfAll[\"masPer\"] = (EdYeardfAll[\"Master's\"] / (EdYeardfAll[\"Master's\"] + EdYeardfAll[\"Master's_O\"]))*100\n",
    "EdYeardfAll[\"unkPer\"] = (EdYeardfAll[\"Unknown\"] / (EdYeardfAll[\"Unknown\"] + EdYeardfAll[\"Unknown_O\"]))*100\n",
    "EdYeardfAll[\"hsPer\"] = (EdYeardfAll[\"High School or GED\"] / (EdYeardfAll[\"High School or GED\"] + EdYeardfAll[\"High School or GED_O\"]))*100\n",
    "EdYeardfAll[\"somePer\"] = (EdYeardfAll[\"Some College\"] / (EdYeardfAll[\"Some College\"] + EdYeardfAll[\"Some College_O\"]))*100\n",
    "\n",
    "\n",
    "EdYeardfAll = EdYeardfAll.drop([\"8th or less\", \"8th or less_O\",\n",
    "                               \"9th - 12th\",\"9th - 12th_O\",\n",
    "                               \"Associate degree\", \"Associate degree_O\",\n",
    "                               \"Bachelor’s degree\", \"Bachelor’s degree_O\",\n",
    "                               \"Doctorate\", \"Doctorate_O\",\n",
    "                               \"Master's\", \"Master's_O\",\n",
    "                               \"Unknown\", \"Unknown_O\",\n",
    "                               \"High School or GED\", \"High School or GED_O\",\n",
    "                               \"Some College\", \"Some College_O\"], axis=1)\n",
    "\n",
    "EdYeardfAll = EdYeardfAll.rename(columns={\"8thPer\": \"8th or less\",\n",
    "                                         \"9thPer\": \"9th - 12th\",\n",
    "                                         \"asscPer\": \"Associate degree\",\n",
    "                                         \"bachPer\": \"Bachelor’s degree\",\n",
    "                                         \"docPer\": \"Doctorate\",\n",
    "                                         \"masPer\": \"Master's\",\n",
    "                                         \"unkPer\": \"Unknown\",\n",
    "                                         \"hsPer\": \"High School or GED\",\n",
    "                                         \"somePer\": \"Some College\"})\n",
    "EdYeardfAll.plot.area(figsize=(20, 10))\n",
    "plt.title(\"Percentage Suicides By Year and Education Level\", fontsize=20, fontweight=\"bold\")\n",
    "EdYeardfAll.plot.line(figsize=(20, 10))\n",
    "plt.title(\"Percentage Suicides By Year and Education Level\", fontsize=20, fontweight=\"bold\")"
   ]
  },
  {
   "cell_type": "markdown",
   "metadata": {},
   "source": [
    "# What the data told us "
   ]
  },
  {
   "cell_type": "code",
   "execution_count": null,
   "metadata": {},
   "outputs": [],
   "source": []
  },
  {
   "cell_type": "code",
   "execution_count": null,
   "metadata": {},
   "outputs": [],
   "source": []
  },
  {
   "cell_type": "code",
   "execution_count": null,
   "metadata": {},
   "outputs": [],
   "source": []
  },
  {
   "cell_type": "markdown",
   "metadata": {},
   "source": [
    "# In the data suicide has 3 different classifications....One being firearms"
   ]
  },
  {
   "cell_type": "markdown",
   "metadata": {},
   "source": [
    "## So we group it by Firearms and the rest...."
   ]
  },
  {
   "cell_type": "code",
   "execution_count": null,
   "metadata": {},
   "outputs": [],
   "source": [
    "\n",
    "AgeGroup = SuiOnly.groupby([\"detail_age\"])\n",
    "\n",
    "FireArmCnt = AgeGroup[\"FirearmCnt\"].sum()\n",
    "NonFireArmCnt = AgeGroup[\"NonFirearmCnt\"].sum()\n",
    "AllSuicides = FireArmCnt + NonFireArmCnt\n",
    "FireArmPercent = (FireArmCnt/AllSuicides)*100\n",
    "\n",
    "MthdByAge = pd.DataFrame({\"Firarm\":FireArmCnt,\n",
    "                        \"Other\":NonFireArmCnt})\n",
    "\n",
    "MthdByAge.plot(kind=\"bar\", stacked=True, figsize=(20, 10))\n",
    "plt.title(\"Use of Firearms Compared to Other Methods By Age\", fontsize=20, fontweight=\"bold\")\n",
    "plt.axis(\"off\")\n",
    "\n",
    "\n",
    "\n",
    "\n",
    "\n",
    "FireArmPerdf = pd.DataFrame(FireArmPercent)\n",
    "FireArmPerdf.plot(kind=\"line\", legend=False, figsize=(20, 10))\n",
    "plt.title(\"Percentage Firearm Use Over Other Methods By Age\", fontsize=20, fontweight=\"bold\")\n",
    "plt.tick_params(\n",
    "    axis='x',          \n",
    "    which='both',      \n",
    "    bottom=False,      \n",
    "    top=False,         \n",
    "    labelbottom=False)\n",
    "plt.xlabel(\"\")"
   ]
  },
  {
   "cell_type": "markdown",
   "metadata": {},
   "source": [
    "# Made some graphs\n",
    "# Came to a morbid realization..."
   ]
  },
  {
   "cell_type": "code",
   "execution_count": null,
   "metadata": {},
   "outputs": [],
   "source": [
    "#Made some bins\n",
    "bins = [0, 6, 11, 16, 21, 26, 31, 36, 41, 46, 51, 56, 61, 66, 71, 76, 81, 86, 91, 96, 101]\n",
    "\n",
    "female = SuiOnly[SuiOnly[\"Female\"] == 1]\n",
    "femaleage = female[\"detail_age\"]\n",
    "\n",
    "male = SuiOnly[SuiOnly[\"Male\"] == 1]\n",
    "maleage = male[\"detail_age\"]\n",
    "\n",
    "fig, ax1 = plt.subplots(figsize=(20, 10))\n",
    "plt.hist(maleage, bins=bins, alpha=0.5, label=\"Male\")\n",
    "plt.hist(femaleage, bins=bins, alpha=0.5, label=\"Female\")\n",
    "plt.title(\"Male and Female Suicides By Age in 5 Year Increments\", fontsize=20, fontweight=\"bold\")\n",
    "plt.legend(loc=\"upper right\")\n",
    "textstr = \"Small spike for Males in early twenties.  \\nPossible correlation to Education Level.\"\n",
    "plt.text(0.05, 0.95, textstr, transform=ax1.transAxes, fontsize=14,\n",
    "        verticalalignment='top')\n",
    "\n",
    "\n",
    "marAge = SuiOnly[[\"Marital Status\", \"detail_age\"]]\n",
    "fig, ax3 = joypy.joyplot(marAge, by=\"Marital Status\", figsize=(20,10),\n",
    "                        ylabelsize=20, xlabelsize=20, ylim='own')\n",
    "fig.suptitle(\"Suicide By Marital Status and Age\", fontsize=25, fontweight=\"bold\")\n",
    "\n",
    "\n",
    "\n",
    "marGroup = SuiOnly.groupby([\"Marital Status\"])\n",
    "\n",
    "femalemar = marGroup[\"Female\"].sum()\n",
    "malemar = marGroup[\"Male\"].sum()\n",
    "\n",
    "marGroupdf = pd.DataFrame({\"Male\": malemar,\n",
    "                           \"Female\": femalemar})\n",
    "\n",
    "\n",
    "marGroupother = OtherOnly.groupby([\"Marital Status\"])\n",
    "femalemarother = marGroupother[\"Female\"].sum()\n",
    "malemarother = marGroupother[\"Male\"].sum()\n",
    "\n",
    "marGroupPerc = pd.DataFrame({\"Male_S\": malemar,\n",
    "                            \"Female_S\": femalemar,\n",
    "                            \"Male_O\": malemarother,\n",
    "                            \"Female_O\": femalemarother})\n",
    "marGroupPerc[\"Male\"] = (marGroupPerc[\"Male_S\"] / (marGroupPerc[\"Male_S\"] + marGroupPerc[\"Male_O\"]))*100\n",
    "marGroupPerc[\"Female\"] = (marGroupPerc[\"Female_S\"] / (marGroupPerc[\"Female_S\"] + marGroupPerc[\"Female_O\"]))*100\n",
    "\n",
    "marGroupPerc = marGroupPerc[[\"Male\", \"Female\"]]\n",
    "\n",
    "\n",
    "marGroupdf.plot(kind=\"bar\", figsize=(20, 10))\n",
    "plt.title(\"Total Suicides By Gender and Marital Status\", fontsize=20, fontweight=\"bold\")\n",
    "\n",
    "marGroupPerc.plot(kind=\"bar\", figsize=(20, 10))\n",
    "plt.title(\"Suicide as Percentage of Total Deaths By Gender and Marital Status\", fontsize=20, fontweight=\"bold\")"
   ]
  },
  {
   "cell_type": "markdown",
   "metadata": {},
   "source": [
    "# The Fun stuff.....\n",
    "## The Analysis\n",
    "### Also made some correlations"
   ]
  },
  {
   "cell_type": "code",
   "execution_count": null,
   "metadata": {},
   "outputs": [],
   "source": [
    "\n",
    "corr1 = SuiOnly[[\"Female\", \"Male\", \"D\", \"M\", \"S\", \"U\", \"W\", \"Method\", \"detail_age\", \"8th grade or less\",\n",
    "                \"9 - 12th grade, no diploma\", \"Associate degree\", \"Bachelor’s degree\", \"Doctorate or professional degree\",\n",
    "                \"Master’s degree\", \"Unknown\", \"high school graduate or GED completed\", \"some college credit, but no degree\"]]\n",
    "\n",
    "corr2 = deathdf[[\"Female\", \"Male\", \"D\", \"M\", \"S\", \"U\", \"W\", \"Method\", \"detail_age\", \"8th grade or less\",\n",
    "                \"9 - 12th grade, no diploma\", \"Associate degree\", \"Bachelor’s degree\", \"Doctorate or professional degree\",\n",
    "                \"Master’s degree\", \"Unknown\", \"high school graduate or GED completed\", \"some college credit, but no degree\"]]\n",
    "\n",
    "\n",
    "from matplotlib.pyplot import figure\n",
    "\n",
    "plt.matshow(corr1.corr())\n",
    "figure(figsize=(20,10))\n",
    "plt.show()\n",
    "                \n",
    "                \n",
    "plt.matshow(corr2.corr())\n",
    "figure(figsize=(20,10))\n",
    "plt.show()"
   ]
  },
  {
   "cell_type": "code",
   "execution_count": null,
   "metadata": {},
   "outputs": [],
   "source": []
  },
  {
   "cell_type": "markdown",
   "metadata": {},
   "source": [
    "# Conclusion "
   ]
  },
  {
   "cell_type": "code",
   "execution_count": null,
   "metadata": {},
   "outputs": [],
   "source": []
  }
 ],
 "metadata": {
  "kernelspec": {
   "display_name": "Python 3",
   "language": "python",
   "name": "python3"
  },
  "language_info": {
   "codemirror_mode": {
    "name": "ipython",
    "version": 3
   },
   "file_extension": ".py",
   "mimetype": "text/x-python",
   "name": "python",
   "nbconvert_exporter": "python",
   "pygments_lexer": "ipython3",
   "version": "3.7.1"
  }
 },
 "nbformat": 4,
 "nbformat_minor": 2
}
